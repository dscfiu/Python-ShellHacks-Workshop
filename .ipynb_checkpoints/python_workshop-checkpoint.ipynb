{
 "cells": [
  {
   "cell_type": "markdown",
   "metadata": {},
   "source": [
    "# Output"
   ]
  },
  {
   "cell_type": "code",
   "execution_count": 1,
   "metadata": {},
   "outputs": [
    {
     "name": "stdout",
     "output_type": "stream",
     "text": [
      "Hello World\n"
     ]
    }
   ],
   "source": [
    "print(\"Hello World\")"
   ]
  },
  {
   "cell_type": "code",
   "execution_count": 2,
   "metadata": {},
   "outputs": [
    {
     "name": "stdout",
     "output_type": "stream",
     "text": [
      "3\n"
     ]
    }
   ],
   "source": [
    "print(3)"
   ]
  },
  {
   "cell_type": "code",
   "execution_count": 3,
   "metadata": {},
   "outputs": [
    {
     "name": "stdout",
     "output_type": "stream",
     "text": [
      "3.2\n"
     ]
    }
   ],
   "source": [
    "print(3.2)"
   ]
  },
  {
   "cell_type": "code",
   "execution_count": 4,
   "metadata": {},
   "outputs": [
    {
     "name": "stdout",
     "output_type": "stream",
     "text": [
      "['Hello', 'World']\n"
     ]
    }
   ],
   "source": [
    "print([\"Hello\", \"World\"])"
   ]
  },
  {
   "cell_type": "code",
   "execution_count": 1,
   "metadata": {},
   "outputs": [
    {
     "name": "stdout",
     "output_type": "stream",
     "text": [
      "hello world\n"
     ]
    }
   ],
   "source": [
    "print(\"hello\", \"world\")"
   ]
  },
  {
   "cell_type": "code",
   "execution_count": 2,
   "metadata": {},
   "outputs": [
    {
     "name": "stdout",
     "output_type": "stream",
     "text": [
      "hello_world\n"
     ]
    }
   ],
   "source": [
    "print(\"hello\", \"world\", sep=\"_\")"
   ]
  },
  {
   "cell_type": "markdown",
   "metadata": {},
   "source": [
    "# Variables"
   ]
  },
  {
   "cell_type": "markdown",
   "metadata": {},
   "source": [
    "### Strings"
   ]
  },
  {
   "cell_type": "code",
   "execution_count": 71,
   "metadata": {},
   "outputs": [
    {
     "name": "stdout",
     "output_type": "stream",
     "text": [
      "Hello\n"
     ]
    }
   ],
   "source": [
    "s = \"Hello\"\n",
    "print(s)"
   ]
  },
  {
   "cell_type": "code",
   "execution_count": 4,
   "metadata": {},
   "outputs": [
    {
     "name": "stdout",
     "output_type": "stream",
     "text": [
      "Hello\n"
     ]
    }
   ],
   "source": [
    "s = 'Hello'\n",
    "print(s)"
   ]
  },
  {
   "cell_type": "code",
   "execution_count": 3,
   "metadata": {},
   "outputs": [
    {
     "name": "stdout",
     "output_type": "stream",
     "text": [
      "Hello World\n"
     ]
    }
   ],
   "source": [
    "# String Concatenation\n",
    "s1 = \"Hello \"\n",
    "s2 = \"World\"\n",
    "print(s1 + s2)"
   ]
  },
  {
   "cell_type": "code",
   "execution_count": 4,
   "metadata": {},
   "outputs": [
    {
     "name": "stdout",
     "output_type": "stream",
     "text": [
      "6\n"
     ]
    }
   ],
   "source": [
    "# Python len() function\n",
    "s = \"Lazaro\"\n",
    "print(len(s))"
   ]
  },
  {
   "cell_type": "code",
   "execution_count": 8,
   "metadata": {},
   "outputs": [
    {
     "name": "stdout",
     "output_type": "stream",
     "text": [
      "Hello World\n"
     ]
    }
   ],
   "source": [
    "s = \"Hello\"\n",
    "s += \" World\"\n",
    "print(s)"
   ]
  },
  {
   "cell_type": "code",
   "execution_count": 9,
   "metadata": {},
   "outputs": [
    {
     "name": "stdout",
     "output_type": "stream",
     "text": [
      "Hello Lazaro, today is sunny\n"
     ]
    }
   ],
   "source": [
    "a = \"Hello {0}, today is {1}\"\n",
    "print(a.format(\"Lazaro\", \"sunny\"))"
   ]
  },
  {
   "cell_type": "code",
   "execution_count": 23,
   "metadata": {},
   "outputs": [
    {
     "name": "stdout",
     "output_type": "stream",
     "text": [
      "Hello there Lazaro, you are tall\n"
     ]
    }
   ],
   "source": [
    "# Python format string\n",
    "print(\"Hello there {name}, you are {verb}\".format(name=\"Lazaro\", verb=\"tall\"))"
   ]
  },
  {
   "cell_type": "code",
   "execution_count": 24,
   "metadata": {},
   "outputs": [
    {
     "name": "stdout",
     "output_type": "stream",
     "text": [
      "Hello there Lazaro, you are tall\n"
     ]
    }
   ],
   "source": [
    "# Python 3.6 f\"\" formatting\n",
    "name = \"Lazaro\"\n",
    "verb = \"tall\"\n",
    "print(f\"Hello there {name}, you are {verb}\")"
   ]
  },
  {
   "cell_type": "code",
   "execution_count": 10,
   "metadata": {},
   "outputs": [
    {
     "name": "stdout",
     "output_type": "stream",
     "text": [
      "String to lower: shellhacks\n",
      "String to upper: SHELLHACKS\n",
      "String to title: Shellhacks\n"
     ]
    }
   ],
   "source": [
    "# Built in string methods\n",
    "string = \"shellhacks\"\n",
    "print(\"String to lower:\", string.lower())\n",
    "print(\"String to upper:\", string.upper())\n",
    "print(\"String to title:\", string.title())"
   ]
  },
  {
   "cell_type": "code",
   "execution_count": 12,
   "metadata": {},
   "outputs": [
    {
     "name": "stdout",
     "output_type": "stream",
     "text": [
      "7 <class 'int'>\n",
      "7 <class 'str'>\n"
     ]
    }
   ],
   "source": [
    "# String conversion\n",
    "num = 7\n",
    "str_num = str(num)\n",
    "print(num, type(num))\n",
    "print(str_num, type(str_num))"
   ]
  },
  {
   "cell_type": "markdown",
   "metadata": {},
   "source": [
    "### Integers/Float"
   ]
  },
  {
   "cell_type": "code",
   "execution_count": 10,
   "metadata": {},
   "outputs": [
    {
     "name": "stdout",
     "output_type": "stream",
     "text": [
      "7\n"
     ]
    }
   ],
   "source": [
    "num = 7\n",
    "print(num)"
   ]
  },
  {
   "cell_type": "code",
   "execution_count": 13,
   "metadata": {},
   "outputs": [
    {
     "name": "stdout",
     "output_type": "stream",
     "text": [
      "7\n"
     ]
    }
   ],
   "source": [
    "num = 2\n",
    "num2 = 5\n",
    "num3 = num + num2\n",
    "print(num3)"
   ]
  },
  {
   "cell_type": "code",
   "execution_count": 15,
   "metadata": {},
   "outputs": [
    {
     "name": "stdout",
     "output_type": "stream",
     "text": [
      "13\n"
     ]
    }
   ],
   "source": [
    "num = 5\n",
    "num += 8\n",
    "print(num)"
   ]
  },
  {
   "cell_type": "code",
   "execution_count": 16,
   "metadata": {},
   "outputs": [
    {
     "ename": "SyntaxError",
     "evalue": "invalid syntax (<ipython-input-16-d447bb0463e0>, line 3)",
     "output_type": "error",
     "traceback": [
      "\u001b[0;36m  File \u001b[0;32m\"<ipython-input-16-d447bb0463e0>\"\u001b[0;36m, line \u001b[0;32m3\u001b[0m\n\u001b[0;31m    num++\u001b[0m\n\u001b[0m         ^\u001b[0m\n\u001b[0;31mSyntaxError\u001b[0m\u001b[0;31m:\u001b[0m invalid syntax\n"
     ]
    }
   ],
   "source": [
    "# Number cannot be incremented using variable++\n",
    "num = 5\n",
    "num++\n",
    "print(num)"
   ]
  },
  {
   "cell_type": "code",
   "execution_count": 21,
   "metadata": {},
   "outputs": [
    {
     "name": "stdout",
     "output_type": "stream",
     "text": [
      "7.4\n"
     ]
    }
   ],
   "source": [
    "num = 7.4\n",
    "print(num)"
   ]
  },
  {
   "cell_type": "code",
   "execution_count": 17,
   "metadata": {},
   "outputs": [
    {
     "name": "stdout",
     "output_type": "stream",
     "text": [
      "10\n"
     ]
    }
   ],
   "source": [
    "num1 = 2\n",
    "num2 = 5\n",
    "multiplied = num1 * num2\n",
    "print(multiplied)"
   ]
  },
  {
   "cell_type": "code",
   "execution_count": 20,
   "metadata": {},
   "outputs": [
    {
     "name": "stdout",
     "output_type": "stream",
     "text": [
      "3.0\n"
     ]
    }
   ],
   "source": [
    "num1 = 27\n",
    "num2 = 9\n",
    "divided = num1 / num2\n",
    "print(divided)"
   ]
  },
  {
   "cell_type": "code",
   "execution_count": 25,
   "metadata": {},
   "outputs": [
    {
     "name": "stdout",
     "output_type": "stream",
     "text": [
      "Division: 3.2\n",
      "Floor Division: 3\n"
     ]
    }
   ],
   "source": [
    "num1 = 16\n",
    "num2 = 5\n",
    "division = num1 / num2\n",
    "floor_division = num1 // num2\n",
    "print(f\"Division: {division}\")\n",
    "print(f\"Floor Division: {floor_division}\")"
   ]
  },
  {
   "cell_type": "code",
   "execution_count": 28,
   "metadata": {
    "scrolled": true
   },
   "outputs": [
    {
     "name": "stdout",
     "output_type": "stream",
     "text": [
      "19.5\n",
      "19\n"
     ]
    }
   ],
   "source": [
    "# Int conversion\n",
    "num_float = 19.5\n",
    "num = int(num_float)\n",
    "print(num_float)\n",
    "print(num)"
   ]
  },
  {
   "cell_type": "code",
   "execution_count": 27,
   "metadata": {},
   "outputs": [
    {
     "name": "stdout",
     "output_type": "stream",
     "text": [
      "17 <class 'str'>\n",
      "17 <class 'int'>\n"
     ]
    }
   ],
   "source": [
    "num_string = \"17\"\n",
    "num = int(num_string)\n",
    "print(num_string, type(num_string))\n",
    "print(num, type(num))"
   ]
  },
  {
   "cell_type": "code",
   "execution_count": 29,
   "metadata": {},
   "outputs": [
    {
     "name": "stdout",
     "output_type": "stream",
     "text": [
      "Int: 7\n",
      "Float: 7.0\n"
     ]
    }
   ],
   "source": [
    "# Float conversion\n",
    "num_int = 7\n",
    "num = float(num_int)\n",
    "print(f\"Int: {num_int}\")\n",
    "print(f\"Float: {num}\")"
   ]
  },
  {
   "cell_type": "code",
   "execution_count": 18,
   "metadata": {
    "scrolled": true
   },
   "outputs": [
    {
     "name": "stdout",
     "output_type": "stream",
     "text": [
      "3\n"
     ]
    }
   ],
   "source": [
    "# Modulo operator\n",
    "remainder = 15 % 4\n",
    "print(remainder)"
   ]
  },
  {
   "cell_type": "code",
   "execution_count": 26,
   "metadata": {},
   "outputs": [
    {
     "name": "stdout",
     "output_type": "stream",
     "text": [
      "5 to the power of 3 is 125\n"
     ]
    }
   ],
   "source": [
    "# Python power operator\n",
    "num = 5\n",
    "power = 3\n",
    "to_power = num**power\n",
    "print(f\"{num} to the power of {power} is {to_power}\")"
   ]
  },
  {
   "cell_type": "markdown",
   "metadata": {},
   "source": [
    "### Boolean"
   ]
  },
  {
   "cell_type": "code",
   "execution_count": 30,
   "metadata": {},
   "outputs": [
    {
     "name": "stdout",
     "output_type": "stream",
     "text": [
      "True\n"
     ]
    }
   ],
   "source": [
    "happy = True\n",
    "print(happy)"
   ]
  },
  {
   "cell_type": "code",
   "execution_count": 32,
   "metadata": {},
   "outputs": [
    {
     "name": "stdout",
     "output_type": "stream",
     "text": [
      "False\n"
     ]
    }
   ],
   "source": [
    "tired = False\n",
    "print(tired)"
   ]
  },
  {
   "cell_type": "code",
   "execution_count": 20,
   "metadata": {},
   "outputs": [
    {
     "ename": "NameError",
     "evalue": "name 'true' is not defined",
     "output_type": "error",
     "traceback": [
      "\u001b[0;31m---------------------------------------------------------------------------\u001b[0m",
      "\u001b[0;31mNameError\u001b[0m                                 Traceback (most recent call last)",
      "\u001b[0;32m<ipython-input-20-5bf159e9d410>\u001b[0m in \u001b[0;36m<module>\u001b[0;34m\u001b[0m\n\u001b[1;32m      1\u001b[0m \u001b[0;31m# True and False boolean values must start with capital T and F\u001b[0m\u001b[0;34m\u001b[0m\u001b[0;34m\u001b[0m\u001b[0;34m\u001b[0m\u001b[0m\n\u001b[0;32m----> 2\u001b[0;31m \u001b[0mpython_rocks\u001b[0m \u001b[0;34m=\u001b[0m \u001b[0mtrue\u001b[0m\u001b[0;34m\u001b[0m\u001b[0;34m\u001b[0m\u001b[0m\n\u001b[0m\u001b[1;32m      3\u001b[0m \u001b[0mprint\u001b[0m\u001b[0;34m(\u001b[0m\u001b[0mpython_rocks\u001b[0m\u001b[0;34m)\u001b[0m\u001b[0;34m\u001b[0m\u001b[0;34m\u001b[0m\u001b[0m\n",
      "\u001b[0;31mNameError\u001b[0m: name 'true' is not defined"
     ]
    }
   ],
   "source": [
    "# True and False boolean values must start with capital T and F\n",
    "python_rocks = true\n",
    "print(python_rocks)"
   ]
  },
  {
   "cell_type": "code",
   "execution_count": 33,
   "metadata": {
    "scrolled": true
   },
   "outputs": [
    {
     "name": "stdout",
     "output_type": "stream",
     "text": [
      "False\n"
     ]
    }
   ],
   "source": [
    "compare = 5 > 10\n",
    "print(compare)"
   ]
  },
  {
   "cell_type": "code",
   "execution_count": 22,
   "metadata": {},
   "outputs": [
    {
     "name": "stdout",
     "output_type": "stream",
     "text": [
      "False\n"
     ]
    }
   ],
   "source": [
    "string = \"Hey!\"\n",
    "string_empty = string == \"\"\n",
    "print(string_empty)"
   ]
  },
  {
   "cell_type": "code",
   "execution_count": 33,
   "metadata": {},
   "outputs": [
    {
     "name": "stdout",
     "output_type": "stream",
     "text": [
      "True\n"
     ]
    }
   ],
   "source": [
    "hungry = False\n",
    "print(not hungry)"
   ]
  },
  {
   "cell_type": "markdown",
   "metadata": {},
   "source": [
    "# Functions"
   ]
  },
  {
   "cell_type": "markdown",
   "metadata": {},
   "source": [
    "### Functions"
   ]
  },
  {
   "cell_type": "code",
   "execution_count": 1,
   "metadata": {},
   "outputs": [
    {
     "name": "stdout",
     "output_type": "stream",
     "text": [
      "Welcome everyone!\n"
     ]
    }
   ],
   "source": [
    "# Simple method\n",
    "def greet():\n",
    "    return \"Welcome everyone!\"\n",
    "\n",
    "result = greet()\n",
    "print(result)"
   ]
  },
  {
   "cell_type": "code",
   "execution_count": 75,
   "metadata": {},
   "outputs": [
    {
     "name": "stdout",
     "output_type": "stream",
     "text": [
      "9\n"
     ]
    }
   ],
   "source": [
    "# Passing variable to method\n",
    "def square(num1):\n",
    "    return num1 * num1\n",
    "\n",
    "num_squared = square(3)\n",
    "print(num_squared)"
   ]
  },
  {
   "cell_type": "code",
   "execution_count": 37,
   "metadata": {},
   "outputs": [
    {
     "name": "stdout",
     "output_type": "stream",
     "text": [
      "First number is 12\n",
      "Second number is 3\n",
      "\n",
      "First number is 6\n",
      "Second number is 8\n",
      "\n"
     ]
    }
   ],
   "source": [
    "# Method with default value\n",
    "def add(num1, num2=3):\n",
    "    print(f\"First number is {num1}\")\n",
    "    print(f\"Second number is {num2}\\n\")\n",
    "\n",
    "add(12)\n",
    "add(6, 8)"
   ]
  },
  {
   "cell_type": "code",
   "execution_count": 39,
   "metadata": {},
   "outputs": [
    {
     "ename": "NameError",
     "evalue": "name 'last_name' is not defined",
     "output_type": "error",
     "traceback": [
      "\u001b[0;31m---------------------------------------------------------------------------\u001b[0m",
      "\u001b[0;31mNameError\u001b[0m                                 Traceback (most recent call last)",
      "\u001b[0;32m<ipython-input-39-4019b8a0b0f3>\u001b[0m in \u001b[0;36m<module>\u001b[0;34m\u001b[0m\n\u001b[1;32m      6\u001b[0m     \u001b[0mprint\u001b[0m\u001b[0;34m(\u001b[0m\u001b[0;34mf\"Bye {last_name}!\"\u001b[0m\u001b[0;34m)\u001b[0m\u001b[0;34m\u001b[0m\u001b[0;34m\u001b[0m\u001b[0m\n\u001b[1;32m      7\u001b[0m \u001b[0;34m\u001b[0m\u001b[0m\n\u001b[0;32m----> 8\u001b[0;31m \u001b[0mbye\u001b[0m\u001b[0;34m(\u001b[0m\u001b[0;34m)\u001b[0m\u001b[0;34m\u001b[0m\u001b[0;34m\u001b[0m\u001b[0m\n\u001b[0m",
      "\u001b[0;32m<ipython-input-39-4019b8a0b0f3>\u001b[0m in \u001b[0;36mbye\u001b[0;34m()\u001b[0m\n\u001b[1;32m      4\u001b[0m \u001b[0;34m\u001b[0m\u001b[0m\n\u001b[1;32m      5\u001b[0m \u001b[0;32mdef\u001b[0m \u001b[0mbye\u001b[0m\u001b[0;34m(\u001b[0m\u001b[0;34m)\u001b[0m\u001b[0;34m:\u001b[0m\u001b[0;34m\u001b[0m\u001b[0;34m\u001b[0m\u001b[0m\n\u001b[0;32m----> 6\u001b[0;31m     \u001b[0mprint\u001b[0m\u001b[0;34m(\u001b[0m\u001b[0;34mf\"Bye {last_name}!\"\u001b[0m\u001b[0;34m)\u001b[0m\u001b[0;34m\u001b[0m\u001b[0;34m\u001b[0m\u001b[0m\n\u001b[0m\u001b[1;32m      7\u001b[0m \u001b[0;34m\u001b[0m\u001b[0m\n\u001b[1;32m      8\u001b[0m \u001b[0mbye\u001b[0m\u001b[0;34m(\u001b[0m\u001b[0;34m)\u001b[0m\u001b[0;34m\u001b[0m\u001b[0;34m\u001b[0m\u001b[0m\n",
      "\u001b[0;31mNameError\u001b[0m: name 'last_name' is not defined"
     ]
    }
   ],
   "source": [
    "# Global scope accessing\n",
    "def greet():\n",
    "    last_name = \"Doe\"\n",
    "\n",
    "def bye():\n",
    "    print(f\"Bye {last_name}!\")\n",
    "    \n",
    "bye()"
   ]
  },
  {
   "cell_type": "markdown",
   "metadata": {},
   "source": [
    "### Classes"
   ]
  },
  {
   "cell_type": "code",
   "execution_count": 36,
   "metadata": {},
   "outputs": [
    {
     "name": "stdout",
     "output_type": "stream",
     "text": [
      "6.0\n"
     ]
    }
   ],
   "source": [
    "# Simple class\n",
    "class Triangle():\n",
    "    def __init__(self, base, height):\n",
    "        self.base = base\n",
    "        self.height = height\n",
    "    \n",
    "    def area(self):\n",
    "        return 0.5*self.base*self.height\n",
    "    \n",
    "triangle = Triangle(3, 4)\n",
    "triangle_area = triangle.area()\n",
    "print(triangle_area)"
   ]
  },
  {
   "cell_type": "code",
   "execution_count": 77,
   "metadata": {},
   "outputs": [
    {
     "name": "stdout",
     "output_type": "stream",
     "text": [
      "Width: 3\n",
      "Height: 3\n",
      "Depth: 3\n"
     ]
    }
   ],
   "source": [
    "# Simple class extending another class\n",
    "class Square():\n",
    "    def __init__(self, width, height):\n",
    "        self.width = width\n",
    "        self.height = height\n",
    "    \n",
    "    def stats(self):\n",
    "        return f\"Width: {self.width}\\nHeight: {self.height}\"\n",
    "\n",
    "class Cube(Square):\n",
    "    def __init__(self, width, height, depth):\n",
    "        super().__init__(width, height)\n",
    "        self.depth = depth\n",
    "    \n",
    "    def stats(self):\n",
    "        square_stats = super().stats()\n",
    "        return square_stats+f\"\\nDepth: {self.depth}\"\n",
    "\n",
    "cube = Cube(3, 3, 3)\n",
    "print(cube.stats())"
   ]
  },
  {
   "cell_type": "markdown",
   "metadata": {},
   "source": [
    "# Conditions"
   ]
  },
  {
   "cell_type": "markdown",
   "metadata": {},
   "source": [
    "### If/Elif/Else"
   ]
  },
  {
   "cell_type": "code",
   "execution_count": 58,
   "metadata": {},
   "outputs": [
    {
     "name": "stdout",
     "output_type": "stream",
     "text": [
      "Number is greater than 5!\n"
     ]
    }
   ],
   "source": [
    "# Simple if statement\n",
    "num = 10\n",
    "if num > 5:\n",
    "    print(\"Number is greater than 5!\")"
   ]
  },
  {
   "cell_type": "code",
   "execution_count": 59,
   "metadata": {},
   "outputs": [
    {
     "name": "stdout",
     "output_type": "stream",
     "text": [
      "Number is less than 20 :(\n"
     ]
    }
   ],
   "source": [
    "# If-else statement\n",
    "num = 10\n",
    "if num > 20:\n",
    "    print(\"Number is greater than 20!\")\n",
    "else:\n",
    "    print(\"Number is less than 20 :(\")"
   ]
  },
  {
   "cell_type": "code",
   "execution_count": 60,
   "metadata": {},
   "outputs": [
    {
     "name": "stdout",
     "output_type": "stream",
     "text": [
      "Number is less than 20 but greater than 10!\n"
     ]
    }
   ],
   "source": [
    "# If-elif-else statement\n",
    "num = 12\n",
    "if num > 20:\n",
    "    print(\"Number is greater than 20!\")\n",
    "elif num > 10:\n",
    "    print(\"Number is less than 20 but greater than 10!\")\n",
    "else:\n",
    "    print(\"Number is less than 10 :(\")"
   ]
  },
  {
   "cell_type": "code",
   "execution_count": 78,
   "metadata": {},
   "outputs": [
    {
     "name": "stdout",
     "output_type": "stream",
     "text": [
      "I have no idea\n"
     ]
    }
   ],
   "source": [
    "# Multiple elif in if-elif-else statement\n",
    "num = -2\n",
    "if num >= 3:\n",
    "    print(\"Number is greater than or equal to 3\")\n",
    "elif num == 2:\n",
    "    print(\"Number is 2!\")\n",
    "elif num == 1:\n",
    "    print(\"Number is 1!\")\n",
    "elif num == 0:\n",
    "    print(\"Number is less than or equal to zero\")\n",
    "else:\n",
    "    print(\"I have no idea\")"
   ]
  },
  {
   "cell_type": "markdown",
   "metadata": {},
   "source": [
    "### Truthy and Falsy"
   ]
  },
  {
   "cell_type": "code",
   "execution_count": 41,
   "metadata": {},
   "outputs": [
    {
     "name": "stdout",
     "output_type": "stream",
     "text": [
      "It's a zero :(\n"
     ]
    }
   ],
   "source": [
    "# Int 0 is falsy\n",
    "num = 0\n",
    "if num:\n",
    "    print(\"It's a number!\")\n",
    "else:\n",
    "    print(\"It's a zero :(\")"
   ]
  },
  {
   "cell_type": "code",
   "execution_count": 40,
   "metadata": {
    "scrolled": true
   },
   "outputs": [
    {
     "name": "stdout",
     "output_type": "stream",
     "text": [
      "It's an empty string :(\n"
     ]
    }
   ],
   "source": [
    "# Empty string is falsy\n",
    "string = \"\"\n",
    "if string:\n",
    "    print(\"It's a string!\")\n",
    "else:\n",
    "    print(\"It's an empty string :(\")"
   ]
  },
  {
   "cell_type": "code",
   "execution_count": 42,
   "metadata": {},
   "outputs": [
    {
     "name": "stdout",
     "output_type": "stream",
     "text": [
      "It's a number!\n"
     ]
    }
   ],
   "source": [
    "# Int other than 0 is truthy\n",
    "num = 1\n",
    "if num:\n",
    "    print(\"It's a number!\")"
   ]
  },
  {
   "cell_type": "code",
   "execution_count": 43,
   "metadata": {},
   "outputs": [
    {
     "name": "stdout",
     "output_type": "stream",
     "text": [
      "It's a string!\n"
     ]
    }
   ],
   "source": [
    "# Non-empty string is truthy\n",
    "string = \"hello!\"\n",
    "if string:\n",
    "    print(\"It's a string!\")"
   ]
  },
  {
   "cell_type": "markdown",
   "metadata": {},
   "source": [
    "# Loops"
   ]
  },
  {
   "cell_type": "markdown",
   "metadata": {},
   "source": [
    "### For Loops"
   ]
  },
  {
   "cell_type": "code",
   "execution_count": 76,
   "metadata": {},
   "outputs": [
    {
     "name": "stdout",
     "output_type": "stream",
     "text": [
      "0\n",
      "1\n",
      "2\n",
      "3\n",
      "4\n"
     ]
    }
   ],
   "source": [
    "# Simple loop\n",
    "for num in range(5):\n",
    "    print(num)"
   ]
  },
  {
   "cell_type": "code",
   "execution_count": 4,
   "metadata": {},
   "outputs": [
    {
     "name": "stdout",
     "output_type": "stream",
     "text": [
      "1 2 3 4 5 "
     ]
    }
   ],
   "source": [
    "for num in range(1, 6):\n",
    "    print(num, end=\" \")"
   ]
  },
  {
   "cell_type": "code",
   "execution_count": 5,
   "metadata": {},
   "outputs": [
    {
     "name": "stdout",
     "output_type": "stream",
     "text": [
      "1 4 7 10 13 16 19 "
     ]
    }
   ],
   "source": [
    "for num in range(1, 20, 3):\n",
    "    print(num, end=\" \")"
   ]
  },
  {
   "cell_type": "code",
   "execution_count": 80,
   "metadata": {},
   "outputs": [
    {
     "name": "stdout",
     "output_type": "stream",
     "text": [
      "It's an odd, 1\n",
      "It's an even, 2\n",
      "It's an odd, 3\n",
      "It's an even, 4\n",
      "It's an odd, 5\n"
     ]
    }
   ],
   "source": [
    "for num in range(1, 6):\n",
    "    if num % 2 == 0:\n",
    "        print(f\"It's an even, {num}\")\n",
    "    else:\n",
    "        print(f\"It's an odd, {num}\")"
   ]
  },
  {
   "cell_type": "code",
   "execution_count": 70,
   "metadata": {
    "scrolled": true
   },
   "outputs": [
    {
     "name": "stdout",
     "output_type": "stream",
     "text": [
      "7\n",
      "6\n",
      "5\n",
      "4\n",
      "3\n",
      "2\n",
      "1\n",
      "0\n"
     ]
    }
   ],
   "source": [
    "# Loop running backwards\n",
    "for num in range(7, -1, -1):\n",
    "    print(num)"
   ]
  },
  {
   "cell_type": "code",
   "execution_count": 81,
   "metadata": {
    "scrolled": true
   },
   "outputs": [
    {
     "name": "stdout",
     "output_type": "stream",
     "text": [
      "H\n",
      "e\n",
      "l\n",
      "l\n",
      "o\n"
     ]
    }
   ],
   "source": [
    "# Iterate over letter in string\n",
    "for letter in \"Hello\":\n",
    "    print(letter)"
   ]
  },
  {
   "cell_type": "code",
   "execution_count": 2,
   "metadata": {},
   "outputs": [
    {
     "name": "stdout",
     "output_type": "stream",
     "text": [
      "1\n",
      "4\n",
      "7\n",
      "2\n"
     ]
    }
   ],
   "source": [
    "# Iterate over element in array\n",
    "arr = [1,4,7,2]\n",
    "for element in arr:\n",
    "    print(element)"
   ]
  },
  {
   "cell_type": "markdown",
   "metadata": {},
   "source": [
    "### While Loops"
   ]
  },
  {
   "cell_type": "code",
   "execution_count": 11,
   "metadata": {},
   "outputs": [
    {
     "name": "stdout",
     "output_type": "stream",
     "text": [
      "Health is at 50%, 25\n",
      "Your health reached 0, GAME OVER\n"
     ]
    }
   ],
   "source": [
    "# Simple while loop until variable is false\n",
    "alive = True\n",
    "health = 50\n",
    "while alive:\n",
    "    if health == 0:\n",
    "        print(\"Your health reached 0, GAME OVER\")\n",
    "        alive = False\n",
    "    elif health == 50//2:\n",
    "        print(f\"Health is at 50%, {health}\")\n",
    "    health -= 1"
   ]
  },
  {
   "cell_type": "code",
   "execution_count": 85,
   "metadata": {},
   "outputs": [
    {
     "name": "stdout",
     "output_type": "stream",
     "text": [
      "5\n",
      "4\n",
      "3\n",
      "2\n",
      "1\n"
     ]
    }
   ],
   "source": [
    "# While loop with comparing variable\n",
    "starting = 5\n",
    "while starting > 0:\n",
    "    print(starting)\n",
    "    starting -= 1"
   ]
  },
  {
   "cell_type": "code",
   "execution_count": 86,
   "metadata": {},
   "outputs": [
    {
     "name": "stdout",
     "output_type": "stream",
     "text": [
      "5\n",
      "4\n",
      "3\n",
      "2\n",
      "1\n",
      "Starting reached zero\n"
     ]
    }
   ],
   "source": [
    "starting = 5\n",
    "while starting > 0:\n",
    "    print(starting)\n",
    "    starting -= 1\n",
    "else:\n",
    "    print(\"Starting reached zero\")"
   ]
  },
  {
   "cell_type": "markdown",
   "metadata": {},
   "source": [
    "# Data Structures"
   ]
  },
  {
   "cell_type": "markdown",
   "metadata": {},
   "source": [
    "### Lists"
   ]
  },
  {
   "cell_type": "code",
   "execution_count": 16,
   "metadata": {},
   "outputs": [
    {
     "name": "stdout",
     "output_type": "stream",
     "text": [
      "['hello', 27, [1, 5, 6], False]\n"
     ]
    }
   ],
   "source": [
    "# Creating list\n",
    "arr = [\"hello\", 27, [1,5,6], False]\n",
    "print(arr)"
   ]
  },
  {
   "cell_type": "code",
   "execution_count": 2,
   "metadata": {},
   "outputs": [
    {
     "name": "stdout",
     "output_type": "stream",
     "text": [
      "['H', 'e', 'l', 'l', 'o']\n"
     ]
    }
   ],
   "source": [
    "# Turning string into list with list()\n",
    "arr = list(\"Hello\")\n",
    "print(arr)"
   ]
  },
  {
   "cell_type": "code",
   "execution_count": 87,
   "metadata": {
    "scrolled": true
   },
   "outputs": [
    {
     "name": "stdout",
     "output_type": "stream",
     "text": [
      "[1, 5.7, None, 'Coolio', True]\n"
     ]
    }
   ],
   "source": [
    "# Showing how lists can hold multiple types\n",
    "arr3 = [1, 5.7, None, \"Coolio\", True]\n",
    "print(arr3)"
   ]
  },
  {
   "cell_type": "code",
   "execution_count": 90,
   "metadata": {},
   "outputs": [
    {
     "name": "stdout",
     "output_type": "stream",
     "text": [
      "hello\n",
      "world\n"
     ]
    }
   ],
   "source": [
    "# Iterating over elements in a list using a for-loop\n",
    "arr1 = [\"hello\", \"world\"]\n",
    "for element in arr1:\n",
    "    print(element)"
   ]
  },
  {
   "cell_type": "code",
   "execution_count": 104,
   "metadata": {},
   "outputs": [
    {
     "name": "stdout",
     "output_type": "stream",
     "text": [
      "hello\n",
      "there\n"
     ]
    }
   ],
   "source": [
    "# Indexing elements in a list\n",
    "arr1 = [\"hello\", \"there\", \"good\", \"friend\"]\n",
    "print(arr1[0])\n",
    "print(arr1[1])"
   ]
  },
  {
   "cell_type": "code",
   "execution_count": 18,
   "metadata": {
    "scrolled": true
   },
   "outputs": [
    {
     "name": "stdout",
     "output_type": "stream",
     "text": [
      "Element at index 0 is h\n",
      "Element at index 1 is e\n",
      "Element at index 2 is l\n",
      "Element at index 3 is l\n",
      "Element at index 4 is o\n"
     ]
    }
   ],
   "source": [
    "arr = list(\"hello\")\n",
    "for index in range(len(arr)):\n",
    "    element = arr[index]\n",
    "    print(f\"Element at index {index} is {element}\")"
   ]
  },
  {
   "cell_type": "code",
   "execution_count": 93,
   "metadata": {
    "scrolled": true
   },
   "outputs": [
    {
     "name": "stdout",
     "output_type": "stream",
     "text": [
      "0 Ray\n",
      "1 Jim\n",
      "2 Pam\n"
     ]
    }
   ],
   "source": [
    "arr1 = [\"Ray\", \"Jim\", \"Pam\"]\n",
    "for index in range(len(arr1)):\n",
    "    print(index, arr1[index])"
   ]
  },
  {
   "cell_type": "code",
   "execution_count": 98,
   "metadata": {},
   "outputs": [
    {
     "name": "stdout",
     "output_type": "stream",
     "text": [
      "3\n",
      "0 1 2 \n"
     ]
    }
   ],
   "source": [
    "arr1 = [\"Ray\", \"Jim\", \"Pam\"]\n",
    "print(len(arr1))\n",
    "\n",
    "ranges = \"\"\n",
    "for num in range(len(arr1)):\n",
    "    ranges += str(num)+\" \"\n",
    "print(ranges)"
   ]
  },
  {
   "cell_type": "code",
   "execution_count": 101,
   "metadata": {},
   "outputs": [
    {
     "name": "stdout",
     "output_type": "stream",
     "text": [
      "There are more than 2 elements in this array\n"
     ]
    }
   ],
   "source": [
    "arr1 = [1, 4, 6, -1]\n",
    "if len(arr1) > 2:\n",
    "    print(\"There are more than 2 elements in this array\")"
   ]
  },
  {
   "cell_type": "code",
   "execution_count": 105,
   "metadata": {},
   "outputs": [
    {
     "name": "stdout",
     "output_type": "stream",
     "text": [
      "[4]\n"
     ]
    }
   ],
   "source": [
    "# Showing how list slicing is [inclusive:exclusive]\n",
    "arr1 = [1, 4, 6, -1]\n",
    "sub_arr = arr1[1:2]\n",
    "print(sub_arr)"
   ]
  },
  {
   "cell_type": "code",
   "execution_count": 106,
   "metadata": {},
   "outputs": [
    {
     "name": "stdout",
     "output_type": "stream",
     "text": [
      "[4, 6]\n"
     ]
    }
   ],
   "source": [
    "arr1 = [1, 4, 6, -1]\n",
    "sub_arr = arr1[1:3]\n",
    "print(sub_arr)"
   ]
  },
  {
   "cell_type": "code",
   "execution_count": 108,
   "metadata": {},
   "outputs": [
    {
     "name": "stdout",
     "output_type": "stream",
     "text": [
      "-1\n",
      "6\n"
     ]
    }
   ],
   "source": [
    "# Negative indexing\n",
    "arr1 = [1, 4, 6, -1]\n",
    "print(arr1[-1])\n",
    "print(arr1[-2])"
   ]
  },
  {
   "cell_type": "code",
   "execution_count": 25,
   "metadata": {},
   "outputs": [
    {
     "name": "stdout",
     "output_type": "stream",
     "text": [
      "[0, 1, 2, 3, 4, 5, 6, 7]\n"
     ]
    }
   ],
   "source": [
    "# Append method\n",
    "arr = []\n",
    "for num in range(8):\n",
    "    arr.append(num)\n",
    "print(arr)"
   ]
  },
  {
   "cell_type": "code",
   "execution_count": 33,
   "metadata": {},
   "outputs": [
    {
     "name": "stdout",
     "output_type": "stream",
     "text": [
      "5 4 3 2 1 \n",
      "[]\n"
     ]
    }
   ],
   "source": [
    "# Pop method\n",
    "arr = [1,2,3,4,5]\n",
    "for element in range(len(arr)):\n",
    "    print(arr.pop(), end=\" \")\n",
    "print(\"\")\n",
    "print(arr)"
   ]
  },
  {
   "cell_type": "code",
   "execution_count": 24,
   "metadata": {},
   "outputs": [
    {
     "name": "stdout",
     "output_type": "stream",
     "text": [
      "[1, 2, 3, 5, 6, 7]\n"
     ]
    }
   ],
   "source": [
    "# Adding two arrays\n",
    "arr1 = [1,2,3]\n",
    "arr2 = [5,6,7]\n",
    "print(arr1 + arr2)"
   ]
  },
  {
   "cell_type": "markdown",
   "metadata": {},
   "source": [
    "### Dictionaries"
   ]
  },
  {
   "cell_type": "code",
   "execution_count": 113,
   "metadata": {},
   "outputs": [
    {
     "name": "stdout",
     "output_type": "stream",
     "text": [
      "{'key': 'value'}\n"
     ]
    }
   ],
   "source": [
    "d = {\"key\":\"value\"}\n",
    "print(d)"
   ]
  },
  {
   "cell_type": "code",
   "execution_count": 36,
   "metadata": {},
   "outputs": [
    {
     "name": "stdout",
     "output_type": "stream",
     "text": [
      "value\n",
      "Seven\n"
     ]
    }
   ],
   "source": [
    "# Accessing key in dictionary\n",
    "d = {\"key\":\"value\", 7:\"Seven\"}\n",
    "print(d[\"key\"])\n",
    "print(d[7])"
   ]
  },
  {
   "cell_type": "code",
   "execution_count": 115,
   "metadata": {},
   "outputs": [
    {
     "name": "stdout",
     "output_type": "stream",
     "text": [
      "James\n"
     ]
    }
   ],
   "source": [
    "d = {\"key\":\"value\", \"name\":\"James\"}\n",
    "print(d[\"name\"])"
   ]
  },
  {
   "cell_type": "code",
   "execution_count": 117,
   "metadata": {},
   "outputs": [
    {
     "name": "stdout",
     "output_type": "stream",
     "text": [
      "{'name': 'James', 'age': 28}\n",
      "28\n"
     ]
    }
   ],
   "source": [
    "# Adding key-value to dictionary\n",
    "d = {\"name\":\"James\"}\n",
    "d[\"age\"] = 28\n",
    "\n",
    "print(d)\n",
    "print(d[\"age\"])"
   ]
  },
  {
   "cell_type": "code",
   "execution_count": 118,
   "metadata": {},
   "outputs": [
    {
     "ename": "KeyError",
     "evalue": "'school'",
     "output_type": "error",
     "traceback": [
      "\u001b[0;31m---------------------------------------------------------------------------\u001b[0m",
      "\u001b[0;31mKeyError\u001b[0m                                  Traceback (most recent call last)",
      "\u001b[0;32m<ipython-input-118-9cf8154e91ac>\u001b[0m in \u001b[0;36m<module>\u001b[0;34m\u001b[0m\n\u001b[1;32m      1\u001b[0m \u001b[0md\u001b[0m \u001b[0;34m=\u001b[0m \u001b[0;34m{\u001b[0m\u001b[0;34m\"name\"\u001b[0m\u001b[0;34m:\u001b[0m\u001b[0;34m\"James\"\u001b[0m\u001b[0;34m,\u001b[0m \u001b[0;34m\"age\"\u001b[0m\u001b[0;34m:\u001b[0m \u001b[0;36m28\u001b[0m\u001b[0;34m,\u001b[0m \u001b[0;34m\"career\"\u001b[0m\u001b[0;34m:\u001b[0m\u001b[0;34m\"Topology\"\u001b[0m\u001b[0;34m}\u001b[0m\u001b[0;34m\u001b[0m\u001b[0;34m\u001b[0m\u001b[0m\n\u001b[0;32m----> 2\u001b[0;31m \u001b[0mschool\u001b[0m \u001b[0;34m=\u001b[0m \u001b[0md\u001b[0m\u001b[0;34m[\u001b[0m\u001b[0;34m\"school\"\u001b[0m\u001b[0;34m]\u001b[0m\u001b[0;34m\u001b[0m\u001b[0;34m\u001b[0m\u001b[0m\n\u001b[0m\u001b[1;32m      3\u001b[0m \u001b[0mprint\u001b[0m\u001b[0;34m(\u001b[0m\u001b[0mschool\u001b[0m\u001b[0;34m)\u001b[0m\u001b[0;34m\u001b[0m\u001b[0;34m\u001b[0m\u001b[0m\n",
      "\u001b[0;31mKeyError\u001b[0m: 'school'"
     ]
    }
   ],
   "source": [
    "# Error when accessing a key not in a dictionary\n",
    "d = {\"name\":\"James\", \"age\": 28, \"career\":\"Topology\"}\n",
    "school = d[\"school\"]\n",
    "print(school)"
   ]
  },
  {
   "cell_type": "code",
   "execution_count": 120,
   "metadata": {},
   "outputs": [
    {
     "name": "stdout",
     "output_type": "stream",
     "text": [
      "None\n"
     ]
    }
   ],
   "source": [
    "# Dictionary get() method\n",
    "d = {\"name\":\"James\", \"age\": 28, \"career\":\"Topology\"}\n",
    "school = d.get(\"school\")\n",
    "print(school)"
   ]
  },
  {
   "cell_type": "code",
   "execution_count": 121,
   "metadata": {},
   "outputs": [
    {
     "name": "stdout",
     "output_type": "stream",
     "text": [
      "No school record\n"
     ]
    }
   ],
   "source": [
    "# Dictionary get() method with default value\n",
    "d = {\"name\":\"James\", \"age\": 28, \"career\":\"Topology\"}\n",
    "school = d.get(\"school\", \"No school record\")\n",
    "print(school)"
   ]
  },
  {
   "cell_type": "code",
   "execution_count": 124,
   "metadata": {},
   "outputs": [
    {
     "name": "stdout",
     "output_type": "stream",
     "text": [
      "dict_keys(['name', 'age', 'career'])\n",
      "['name', 'age', 'career']\n"
     ]
    }
   ],
   "source": [
    "# Dictionary keys() method\n",
    "d = {\"name\":\"James\", \"age\": 28, \"career\":\"Topology\"}\n",
    "print(d.keys())\n",
    "print(list(d.keys()))"
   ]
  },
  {
   "cell_type": "code",
   "execution_count": 125,
   "metadata": {},
   "outputs": [
    {
     "name": "stdout",
     "output_type": "stream",
     "text": [
      "dict_values(['James', 28, 'Topology'])\n",
      "['James', 28, 'Topology']\n"
     ]
    }
   ],
   "source": [
    "# Dictionary values() method\n",
    "d = {\"name\":\"James\", \"age\": 28, \"career\":\"Topology\"}\n",
    "print(d.values())\n",
    "print(list(d.values()))"
   ]
  },
  {
   "cell_type": "code",
   "execution_count": 38,
   "metadata": {},
   "outputs": [
    {
     "name": "stdout",
     "output_type": "stream",
     "text": [
      "dict_items([('name', 'James'), ('age', 28), ('career', 'Topology')])\n",
      "[('name', 'James'), ('age', 28), ('career', 'Topology')]\n",
      "Key: name, Value: James\n",
      "Key: age, Value: 28\n",
      "Key: career, Value: Topology\n"
     ]
    }
   ],
   "source": [
    "# Dictionary items() method\n",
    "d = {\"name\":\"James\", \"age\": 28, \"career\":\"Topology\"}\n",
    "\n",
    "print(d.items())\n",
    "print(list(d.items()))\n",
    "\n",
    "for key, value in d.items():\n",
    "    print(f\"Key: {key}, Value: {value}\")"
   ]
  },
  {
   "cell_type": "code",
   "execution_count": 90,
   "metadata": {},
   "outputs": [
    {
     "name": "stdout",
     "output_type": "stream",
     "text": [
      "{'type': 'For-Loop', 'indicies': [0, 1, 2, 3, 4, 5, 6], 'length': 7}\n"
     ]
    }
   ],
   "source": [
    "# Showing how dictionaries can hold multiple types\n",
    "d = {\"type\": \"For-Loop\", \"indicies\": [], \"length\":0}\n",
    "\n",
    "for i in range(7):\n",
    "    d[\"indicies\"].append(i)\n",
    "    d[\"length\"] += 1\n",
    "print(d)"
   ]
  }
 ],
 "metadata": {
  "kernelspec": {
   "display_name": "Python 3",
   "language": "python",
   "name": "python3"
  },
  "language_info": {
   "codemirror_mode": {
    "name": "ipython",
    "version": 3
   },
   "file_extension": ".py",
   "mimetype": "text/x-python",
   "name": "python",
   "nbconvert_exporter": "python",
   "pygments_lexer": "ipython3",
   "version": "3.8.3"
  }
 },
 "nbformat": 4,
 "nbformat_minor": 4
}
